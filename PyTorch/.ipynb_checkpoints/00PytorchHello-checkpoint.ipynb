{
 "cells": [
  {
   "cell_type": "code",
   "execution_count": 1,
   "id": "ef52568d-cba5-4364-9e1f-dd80feea83a5",
   "metadata": {},
   "outputs": [
    {
     "data": {
      "text/plain": [
       "'2.0.1+cpu'"
      ]
     },
     "execution_count": 1,
     "metadata": {},
     "output_type": "execute_result"
    }
   ],
   "source": [
    "import torch\n",
    "torch.__version__"
   ]
  },
  {
   "cell_type": "markdown",
   "id": "65a8f968-9276-48b8-9fe5-5a136217e2da",
   "metadata": {},
   "source": [
    "# 基本使用方法"
   ]
  },
  {
   "cell_type": "markdown",
   "id": "c7306a99-d4de-44fc-bc89-a550c3595f27",
   "metadata": {},
   "source": [
    "创建一个矩阵"
   ]
  },
  {
   "cell_type": "code",
   "execution_count": 3,
   "id": "b493ba28-94f2-49e9-9d74-6fb8a171caa5",
   "metadata": {},
   "outputs": [
    {
     "data": {
      "text/plain": [
       "tensor([[9.2755e-39, 1.0561e-38, 7.7143e-39],\n",
       "        [1.0102e-38, 1.0194e-38, 8.4490e-39],\n",
       "        [1.0286e-38, 6.2450e-39, 1.0653e-38],\n",
       "        [8.4490e-39, 1.0194e-38, 8.9082e-39],\n",
       "        [8.4490e-39, 9.2755e-39, 1.0286e-38]])"
      ]
     },
     "execution_count": 3,
     "metadata": {},
     "output_type": "execute_result"
    }
   ],
   "source": [
    "x = torch.empty(5, 3)\n",
    "x"
   ]
  },
  {
   "cell_type": "markdown",
   "id": "03950c75-f12d-4a56-a38b-29f8922d240c",
   "metadata": {},
   "source": [
    "创建随机值矩阵"
   ]
  },
  {
   "cell_type": "code",
   "execution_count": 10,
   "id": "8c485cc2-a172-4219-8731-78b679ac828b",
   "metadata": {},
   "outputs": [
    {
     "data": {
      "text/plain": [
       "tensor([[0.2634, 0.0971, 0.6979],\n",
       "        [0.1548, 0.3664, 0.0621],\n",
       "        [0.0334, 0.0962, 0.3341],\n",
       "        [0.8472, 0.1512, 0.2514],\n",
       "        [0.6769, 0.9752, 0.9117]])"
      ]
     },
     "execution_count": 10,
     "metadata": {},
     "output_type": "execute_result"
    }
   ],
   "source": [
    "x = torch.rand(5, 3)\n",
    "x"
   ]
  },
  {
   "cell_type": "markdown",
   "id": "46320631-a103-43cf-932f-e832935cf908",
   "metadata": {},
   "source": [
    "初始化一个全零的矩阵"
   ]
  },
  {
   "cell_type": "code",
   "execution_count": 5,
   "id": "e8f9ed8b-6192-4904-a990-29b40e10c864",
   "metadata": {},
   "outputs": [
    {
     "data": {
      "text/plain": [
       "tensor([[0, 0, 0],\n",
       "        [0, 0, 0],\n",
       "        [0, 0, 0],\n",
       "        [0, 0, 0],\n",
       "        [0, 0, 0]])"
      ]
     },
     "execution_count": 5,
     "metadata": {},
     "output_type": "execute_result"
    }
   ],
   "source": [
    "x = torch.zeros(5, 3, dtype = torch.long)\n",
    "x "
   ]
  },
  {
   "cell_type": "markdown",
   "id": "0da89f4e-27e9-4cb0-9e86-ec10626e12cd",
   "metadata": {},
   "source": [
    "直接传入数据"
   ]
  },
  {
   "cell_type": "code",
   "execution_count": 6,
   "id": "a2b0e826-c0f4-4600-a312-113cf7f23c83",
   "metadata": {},
   "outputs": [
    {
     "data": {
      "text/plain": [
       "tensor([5.5000, 3.0000])"
      ]
     },
     "execution_count": 6,
     "metadata": {},
     "output_type": "execute_result"
    }
   ],
   "source": [
    "x = torch.tensor([5.5, 3])\n",
    "x "
   ]
  },
  {
   "cell_type": "markdown",
   "id": "0003b3d0-3d9b-4c54-951a-b0cb48398048",
   "metadata": {},
   "source": [
    "展示矩阵大小"
   ]
  },
  {
   "cell_type": "code",
   "execution_count": 7,
   "id": "b96ac4bb-4654-4c11-bd7a-8a2689e09dfe",
   "metadata": {},
   "outputs": [
    {
     "data": {
      "text/plain": [
       "torch.Size([2])"
      ]
     },
     "execution_count": 7,
     "metadata": {},
     "output_type": "execute_result"
    }
   ],
   "source": [
    "x.size()"
   ]
  },
  {
   "cell_type": "markdown",
   "id": "f4645a5e-cedb-42ad-a88e-920441528de8",
   "metadata": {},
   "source": [
    "## 基本计算方法"
   ]
  },
  {
   "cell_type": "code",
   "execution_count": 11,
   "id": "51be1c2b-8b27-4fae-bcd6-910db14580f7",
   "metadata": {},
   "outputs": [
    {
     "data": {
      "text/plain": [
       "tensor([[1.2413, 0.3123, 1.4331],\n",
       "        [0.3016, 0.9422, 0.7114],\n",
       "        [0.8905, 0.7267, 1.1458],\n",
       "        [1.0645, 0.5834, 0.4543],\n",
       "        [1.6642, 1.7955, 1.6521]])"
      ]
     },
     "execution_count": 11,
     "metadata": {},
     "output_type": "execute_result"
    }
   ],
   "source": [
    "y = torch.rand(5, 3)\n",
    "x + y"
   ]
  },
  {
   "cell_type": "code",
   "execution_count": 12,
   "id": "ff56886d-d68f-4481-8cf2-2c5af82fa2a2",
   "metadata": {},
   "outputs": [
    {
     "data": {
      "text/plain": [
       "tensor([[1.2413, 0.3123, 1.4331],\n",
       "        [0.3016, 0.9422, 0.7114],\n",
       "        [0.8905, 0.7267, 1.1458],\n",
       "        [1.0645, 0.5834, 0.4543],\n",
       "        [1.6642, 1.7955, 1.6521]])"
      ]
     },
     "execution_count": 12,
     "metadata": {},
     "output_type": "execute_result"
    }
   ],
   "source": [
    "torch.add(x, y) # 等同于上面那个"
   ]
  },
  {
   "cell_type": "markdown",
   "id": "5d0a1bf7-9d78-4241-8130-c0d8a63e1be5",
   "metadata": {},
   "source": [
    "## 索引"
   ]
  },
  {
   "cell_type": "code",
   "execution_count": 14,
   "id": "28df8abe-a33c-4c75-a992-cc442574f56e",
   "metadata": {},
   "outputs": [
    {
     "data": {
      "text/plain": [
       "tensor([[0.2634, 0.0971, 0.6979],\n",
       "        [0.1548, 0.3664, 0.0621],\n",
       "        [0.0334, 0.0962, 0.3341],\n",
       "        [0.8472, 0.1512, 0.2514],\n",
       "        [0.6769, 0.9752, 0.9117]])"
      ]
     },
     "execution_count": 14,
     "metadata": {},
     "output_type": "execute_result"
    }
   ],
   "source": [
    "x"
   ]
  },
  {
   "cell_type": "code",
   "execution_count": 13,
   "id": "650fa33c-10a1-44d5-92e8-41d271e0b0d3",
   "metadata": {},
   "outputs": [
    {
     "data": {
      "text/plain": [
       "tensor([0.0971, 0.3664, 0.0962, 0.1512, 0.9752])"
      ]
     },
     "execution_count": 13,
     "metadata": {},
     "output_type": "execute_result"
    }
   ],
   "source": [
    "x[:, 1] # 取第一列的数据"
   ]
  },
  {
   "cell_type": "markdown",
   "id": "4d66cc37-c36e-464a-97b2-042ababae66a",
   "metadata": {},
   "source": [
    "## view操作可以改变矩阵维度"
   ]
  },
  {
   "cell_type": "code",
   "execution_count": 19,
   "id": "5213905f-3154-49a2-9e7d-06d579ba3afb",
   "metadata": {},
   "outputs": [
    {
     "name": "stdout",
     "output_type": "stream",
     "text": [
      "torch.Size([4, 4]) torch.Size([16]) torch.Size([2, 8])\n"
     ]
    }
   ],
   "source": [
    "x = torch.randn(4, 4)\n",
    "y = x.view(16)\n",
    "z = x.view(-1, 8) # -1表示自动计算\n",
    "print(x.size(), y.size(), z.size())"
   ]
  },
  {
   "cell_type": "code",
   "execution_count": 16,
   "id": "77b2929c-b498-4986-929d-a239ad7b59bd",
   "metadata": {},
   "outputs": [
    {
     "data": {
      "text/plain": [
       "tensor([ 0.0146,  0.1757,  0.5180,  0.5120,  0.9158, -1.3840, -1.3819, -0.8797,\n",
       "         0.4549,  0.5182, -0.7045,  0.8764,  0.7199, -0.8068,  0.8759,  0.0386])"
      ]
     },
     "execution_count": 16,
     "metadata": {},
     "output_type": "execute_result"
    }
   ],
   "source": [
    "y"
   ]
  },
  {
   "cell_type": "code",
   "execution_count": 17,
   "id": "fe17bcdf-d8ce-4320-8b6e-0e6e06e7f68e",
   "metadata": {},
   "outputs": [
    {
     "data": {
      "text/plain": [
       "tensor([[ 0.0146,  0.1757,  0.5180,  0.5120,  0.9158, -1.3840, -1.3819, -0.8797],\n",
       "        [ 0.4549,  0.5182, -0.7045,  0.8764,  0.7199, -0.8068,  0.8759,  0.0386]])"
      ]
     },
     "execution_count": 17,
     "metadata": {},
     "output_type": "execute_result"
    }
   ],
   "source": [
    "z"
   ]
  },
  {
   "cell_type": "markdown",
   "id": "80fa595e-f80e-4820-a268-6b6f128c50d8",
   "metadata": {},
   "source": [
    "## 与Numpy的协同操作"
   ]
  },
  {
   "cell_type": "code",
   "execution_count": 20,
   "id": "43193270-dabc-4a0f-b0b4-6a9d1b3e89ca",
   "metadata": {},
   "outputs": [
    {
     "data": {
      "text/plain": [
       "array([1., 1., 1., 1., 1.], dtype=float32)"
      ]
     },
     "execution_count": 20,
     "metadata": {},
     "output_type": "execute_result"
    }
   ],
   "source": [
    "a = torch.ones(5)\n",
    "b = a.numpy()\n",
    "b"
   ]
  },
  {
   "cell_type": "code",
   "execution_count": 23,
   "id": "4ac64c54-a0ab-4fde-9803-886835251a5f",
   "metadata": {},
   "outputs": [
    {
     "data": {
      "text/plain": [
       "tensor([1., 1., 1., 1., 1.], dtype=torch.float64)"
      ]
     },
     "execution_count": 23,
     "metadata": {},
     "output_type": "execute_result"
    }
   ],
   "source": [
    "import numpy as np\n",
    "a = np.ones(5)\n",
    "b = torch.from_numpy(a)\n",
    "b"
   ]
  }
 ],
 "metadata": {
  "kernelspec": {
   "display_name": "Python 3 (ipykernel)",
   "language": "python",
   "name": "python3"
  },
  "language_info": {
   "codemirror_mode": {
    "name": "ipython",
    "version": 3
   },
   "file_extension": ".py",
   "mimetype": "text/x-python",
   "name": "python",
   "nbconvert_exporter": "python",
   "pygments_lexer": "ipython3",
   "version": "3.9.7"
  }
 },
 "nbformat": 4,
 "nbformat_minor": 5
}
