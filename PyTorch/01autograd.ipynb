{
 "cells": [
  {
   "cell_type": "code",
   "execution_count": 1,
   "id": "75f4a21b-e6d1-49ae-8430-372852ee9554",
   "metadata": {},
   "outputs": [],
   "source": [
    "import torch\n",
    "import numpy as np"
   ]
  },
  {
   "cell_type": "code",
   "execution_count": 2,
   "id": "2207ea61-88b3-4fdd-9b79-272260b4ad8a",
   "metadata": {},
   "outputs": [
    {
     "data": {
      "text/plain": [
       "tensor([[-1.2367,  0.0682,  1.0653,  0.8201],\n",
       "        [ 0.8362, -1.4021,  1.8466, -0.1803],\n",
       "        [-0.1978, -0.2123, -1.3564, -0.6358]], requires_grad=True)"
      ]
     },
     "execution_count": 2,
     "metadata": {},
     "output_type": "execute_result"
    }
   ],
   "source": [
    "# 方法一\n",
    "x = torch.randn(3, 4, requires_grad=True) # requires_grad可以对当前x进行求导\n",
    "x"
   ]
  },
  {
   "cell_type": "code",
   "execution_count": 3,
   "id": "f130da05-54d2-485c-ac04-ce0d031d5dcb",
   "metadata": {},
   "outputs": [
    {
     "data": {
      "text/plain": [
       "tensor([[-0.1289,  0.3629,  0.8613,  0.0067],\n",
       "        [-0.6045,  1.0934, -1.1995,  1.0265],\n",
       "        [-1.7146,  1.5572,  0.2270, -0.0674]], requires_grad=True)"
      ]
     },
     "execution_count": 3,
     "metadata": {},
     "output_type": "execute_result"
    }
   ],
   "source": [
    "# 方法二\n",
    "x = torch.randn(3, 4)\n",
    "x.requires_grad = True\n",
    "x"
   ]
  },
  {
   "cell_type": "code",
   "execution_count": 4,
   "id": "a1956685-feb9-4e9a-a02a-ba29bac36016",
   "metadata": {},
   "outputs": [
    {
     "data": {
      "text/plain": [
       "tensor([[-0.2225, -0.0142,  1.1115,  0.8699],\n",
       "        [ 0.3337, -0.0066,  0.1678, -0.2839],\n",
       "        [ 1.3973, -0.1481, -0.0161, -0.5069]], requires_grad=True)"
      ]
     },
     "execution_count": 4,
     "metadata": {},
     "output_type": "execute_result"
    }
   ],
   "source": [
    "b = torch.randn(3, 4, requires_grad=True)\n",
    "b"
   ]
  },
  {
   "cell_type": "code",
   "execution_count": 5,
   "id": "fad48db8-ebf7-4eb7-9be6-47974bff8f52",
   "metadata": {},
   "outputs": [
    {
     "data": {
      "text/plain": [
       "tensor([[-0.3514,  0.3487,  1.9729,  0.8766],\n",
       "        [-0.2708,  1.0868, -1.0316,  0.7426],\n",
       "        [-0.3173,  1.4091,  0.2109, -0.5743]], grad_fn=<AddBackward0>)"
      ]
     },
     "execution_count": 5,
     "metadata": {},
     "output_type": "execute_result"
    }
   ],
   "source": [
    "t = x + b\n",
    "t"
   ]
  },
  {
   "cell_type": "code",
   "execution_count": 6,
   "id": "a306cb9d-4dfe-4aae-a0d9-3fd02bad41c5",
   "metadata": {},
   "outputs": [
    {
     "data": {
      "text/plain": [
       "tensor(4.1022, grad_fn=<SumBackward0>)"
      ]
     },
     "execution_count": 6,
     "metadata": {},
     "output_type": "execute_result"
    }
   ],
   "source": [
    "y = t.sum()\n",
    "y"
   ]
  },
  {
   "cell_type": "code",
   "execution_count": 7,
   "id": "9196d78d-cea6-4b30-bed2-d3c66abc763e",
   "metadata": {},
   "outputs": [],
   "source": [
    "y.backward()"
   ]
  },
  {
   "cell_type": "code",
   "execution_count": 8,
   "id": "9ba8d536-6ad0-4073-a968-3d7a457c14b2",
   "metadata": {},
   "outputs": [
    {
     "data": {
      "text/plain": [
       "tensor([[1., 1., 1., 1.],\n",
       "        [1., 1., 1., 1.],\n",
       "        [1., 1., 1., 1.]])"
      ]
     },
     "execution_count": 8,
     "metadata": {},
     "output_type": "execute_result"
    }
   ],
   "source": [
    "b.grad # 对b求导"
   ]
  },
  {
   "cell_type": "markdown",
   "id": "e15ca26b-d9d6-40da-b747-125a72fe312e",
   "metadata": {},
   "source": [
    "**requires_grad参数默认为True**"
   ]
  },
  {
   "cell_type": "code",
   "execution_count": 9,
   "id": "95201b43-de2b-4f8c-9aa7-11ba6f466922",
   "metadata": {},
   "outputs": [],
   "source": [
    "# 计算流程\n",
    "x = torch.rand(1)\n",
    "b = torch.rand(1, requires_grad = True)\n",
    "w = torch.rand(1, requires_grad = True)\n",
    "y = w * b\n",
    "z = y + b"
   ]
  },
  {
   "cell_type": "code",
   "execution_count": 10,
   "id": "2e10dab5-8e24-400e-a36e-9e83db204f3a",
   "metadata": {},
   "outputs": [],
   "source": [
    "# 反向传播计算\n",
    "z.backward(retain_graph=True)"
   ]
  },
  {
   "cell_type": "markdown",
   "id": "557a6632-38c1-450c-8e76-dc894324fb8c",
   "metadata": {},
   "source": [
    "# 线性回归案例"
   ]
  },
  {
   "cell_type": "markdown",
   "id": "542bac47-9f81-4d82-926d-f6957b424f84",
   "metadata": {},
   "source": [
    "### 构造一组输入数据和其对应的标签y\n"
   ]
  },
  {
   "cell_type": "code",
   "execution_count": 11,
   "id": "b2984be0-5d42-4592-9409-5588f021084e",
   "metadata": {},
   "outputs": [
    {
     "data": {
      "text/plain": [
       "(11, 1)"
      ]
     },
     "execution_count": 11,
     "metadata": {},
     "output_type": "execute_result"
    }
   ],
   "source": [
    "x_values = [i for i in range(11)]\n",
    "x_train = np.array(x_values, dtype=np.float32)\n",
    "x_train = x_train.reshape(-1, 1)\n",
    "x_train.shape"
   ]
  },
  {
   "cell_type": "code",
   "execution_count": 12,
   "id": "ad4f1e97-7f82-4233-9033-a76e6670fce4",
   "metadata": {},
   "outputs": [
    {
     "data": {
      "text/plain": [
       "(11, 1)"
      ]
     },
     "execution_count": 12,
     "metadata": {},
     "output_type": "execute_result"
    }
   ],
   "source": [
    "y_values = [2 * i for i in x_values]\n",
    "y_train = np.array(y_values, dtype=np.float32)\n",
    "y_train = y_train.reshape(-1, 1)\n",
    "y_train.shape"
   ]
  },
  {
   "cell_type": "code",
   "execution_count": 16,
   "id": "7a4422c2-5bbe-42c1-b006-08b2a66395b6",
   "metadata": {},
   "outputs": [],
   "source": [
    "import torch\n",
    "import torch.nn as nn"
   ]
  },
  {
   "cell_type": "markdown",
   "id": "c5c253f1-4b88-4b12-8b48-0f10c5449540",
   "metadata": {},
   "source": [
    "## 线性回归模型\n",
    "- 其实线性回归就是一个不加激活函数的全连接层"
   ]
  },
  {
   "cell_type": "code",
   "execution_count": 20,
   "id": "0fcd6444-6ae4-485a-81b0-42a890812702",
   "metadata": {},
   "outputs": [],
   "source": [
    "class LinearRegressionModel(nn.Module):\n",
    "    def __init__(self, input_dim, output_dim):\n",
    "        super(LinearRegressionModel, self).__init__()\n",
    "        self.linear = nn.Linear(input_dim, output_dim)\n",
    "        \n",
    "    def forward(self, x):\n",
    "        out = self.linear(x)\n",
    "        return out"
   ]
  },
  {
   "cell_type": "code",
   "execution_count": 22,
   "id": "4274599c-8519-43e4-b892-a3ae27a265b8",
   "metadata": {},
   "outputs": [],
   "source": [
    "input_dim = 1\n",
    "output_dim = 1\n",
    "model = LinearRegressionModel(input_dim, output_dim)"
   ]
  },
  {
   "cell_type": "markdown",
   "id": "ae56e60b-b2b3-4182-a384-17319d68bf36",
   "metadata": {},
   "source": [
    "指定好参数和损失函数"
   ]
  },
  {
   "cell_type": "code",
   "execution_count": 24,
   "id": "2d641a8f-5b2e-4ad1-aa9a-1c833ceaa5fb",
   "metadata": {},
   "outputs": [],
   "source": [
    "epochs = 1000 # 训练次数\n",
    "learning_rate = 0.01 # 学习率\n",
    "optimizer = torch.optim.SGD(model.parameters(), lr = learning_rate) # 指定优化器\n",
    "critertion = nn.MSELoss() # 设定损失函数"
   ]
  },
  {
   "cell_type": "markdown",
   "id": "7b004eb5-549a-4910-8448-92148b3f89f7",
   "metadata": {},
   "source": [
    "训练模型"
   ]
  },
  {
   "cell_type": "code",
   "execution_count": 26,
   "id": "a3d9d13e-2fa1-42d0-af7d-bad93b7a9cdc",
   "metadata": {},
   "outputs": [
    {
     "name": "stdout",
     "output_type": "stream",
     "text": [
      "epoch 50, loss 6.50688676273603e-08\n",
      "epoch 100, loss 3.709802598450551e-08\n",
      "epoch 150, loss 2.115869612850929e-08\n",
      "epoch 200, loss 1.207325439622764e-08\n",
      "epoch 250, loss 6.9102465971582205e-09\n",
      "epoch 300, loss 3.95611854386857e-09\n",
      "epoch 350, loss 2.27043606138011e-09\n",
      "epoch 400, loss 1.2890045697488972e-09\n",
      "epoch 450, loss 7.367341736674859e-10\n",
      "epoch 500, loss 4.3029951823925217e-10\n",
      "epoch 550, loss 2.493215633947443e-10\n",
      "epoch 600, loss 1.429334012259531e-10\n",
      "epoch 650, loss 8.555636754614682e-11\n",
      "epoch 700, loss 4.958170332636236e-11\n",
      "epoch 750, loss 3.125026279415799e-11\n",
      "epoch 800, loss 1.9056083100377208e-11\n",
      "epoch 850, loss 1.179553676955436e-11\n",
      "epoch 900, loss 7.700250159725641e-12\n",
      "epoch 950, loss 6.19150173838956e-12\n",
      "epoch 1000, loss 5.177509896509003e-12\n"
     ]
    }
   ],
   "source": [
    "for epoch in range(epochs):\n",
    "    epoch += 1\n",
    "    \n",
    "    # 将np转换为tensor\n",
    "    inputs = torch.from_numpy(x_train)\n",
    "    labels = torch.from_numpy(y_train)\n",
    "    \n",
    "    # 梯度要清零每一次迭代\n",
    "    optimizer.zero_grad()\n",
    "    \n",
    "    # 向前传播\n",
    "    outputs = model(inputs)\n",
    "    \n",
    "    # 计算损失\n",
    "    loss = critertion(outputs, labels)\n",
    "    \n",
    "    # 反向传播\n",
    "    loss.backward()\n",
    "    \n",
    "    # 更新权重参数\n",
    "    optimizer.step()\n",
    "    if epoch % 50 == 0:\n",
    "        print(\"epoch {}, loss {}\".format(epoch, loss.item()))"
   ]
  },
  {
   "cell_type": "markdown",
   "id": "5aa9ef6f-5bba-407c-9c79-e3038a7f492d",
   "metadata": {},
   "source": [
    "## 测试模型预测结果"
   ]
  },
  {
   "cell_type": "code",
   "execution_count": 27,
   "id": "77678c3e-9214-4313-ad01-bc48bd7fa379",
   "metadata": {},
   "outputs": [
    {
     "data": {
      "text/plain": [
       "array([[-3.7852265e-06],\n",
       "       [ 1.9999969e+00],\n",
       "       [ 3.9999976e+00],\n",
       "       [ 5.9999981e+00],\n",
       "       [ 7.9999990e+00],\n",
       "       [ 1.0000000e+01],\n",
       "       [ 1.2000000e+01],\n",
       "       [ 1.4000001e+01],\n",
       "       [ 1.6000002e+01],\n",
       "       [ 1.8000002e+01],\n",
       "       [ 2.0000004e+01]], dtype=float32)"
      ]
     },
     "execution_count": 27,
     "metadata": {},
     "output_type": "execute_result"
    }
   ],
   "source": [
    "predicted = model(torch.from_numpy(x_train).requires_grad_()).data.numpy()\n",
    "predicted"
   ]
  },
  {
   "cell_type": "markdown",
   "id": "7b1e6994-9441-4b1d-8bec-f2d4f44a215e",
   "metadata": {},
   "source": [
    "## 模型的保存与读取"
   ]
  },
  {
   "cell_type": "code",
   "execution_count": 28,
   "id": "a3aa2fa2-e44b-4504-82f3-cb2d589da575",
   "metadata": {},
   "outputs": [],
   "source": [
    "torch.save(model.state_dict(), \"model.pkl\")"
   ]
  },
  {
   "cell_type": "code",
   "execution_count": 29,
   "id": "ca94a655-e593-459b-982a-99f4edcd4395",
   "metadata": {},
   "outputs": [
    {
     "data": {
      "text/plain": [
       "<All keys matched successfully>"
      ]
     },
     "execution_count": 29,
     "metadata": {},
     "output_type": "execute_result"
    }
   ],
   "source": [
    "model.load_state_dict(torch.load(\"model.pkl\"))"
   ]
  },
  {
   "cell_type": "markdown",
   "id": "61e53200-dce9-483f-b4d6-ecc4f4474d5b",
   "metadata": {},
   "source": [
    "## 使用GPU进行训练"
   ]
  },
  {
   "cell_type": "code",
   "execution_count": null,
   "id": "a29385f6-c2b8-4bdc-9254-bf8e5c27d6d8",
   "metadata": {},
   "outputs": [],
   "source": []
  }
 ],
 "metadata": {
  "kernelspec": {
   "display_name": "Python 3 (ipykernel)",
   "language": "python",
   "name": "python3"
  },
  "language_info": {
   "codemirror_mode": {
    "name": "ipython",
    "version": 3
   },
   "file_extension": ".py",
   "mimetype": "text/x-python",
   "name": "python",
   "nbconvert_exporter": "python",
   "pygments_lexer": "ipython3",
   "version": "3.9.7"
  }
 },
 "nbformat": 4,
 "nbformat_minor": 5
}
