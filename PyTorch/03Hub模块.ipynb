{
 "cells": [
  {
   "cell_type": "markdown",
   "id": "6b595124-1664-4319-b556-9489fe1e5fbd",
   "metadata": {},
   "source": [
    "[官网地址：](https://pytorch.org/hub/)https://pytorch.org/hub/"
   ]
  },
  {
   "cell_type": "code",
   "execution_count": null,
   "id": "71d45500-88b7-4ae4-9c53-a8470b95e785",
   "metadata": {},
   "outputs": [],
   "source": []
  }
 ],
 "metadata": {
  "kernelspec": {
   "display_name": "Python 3 (ipykernel)",
   "language": "python",
   "name": "python3"
  },
  "language_info": {
   "codemirror_mode": {
    "name": "ipython",
    "version": 3
   },
   "file_extension": ".py",
   "mimetype": "text/x-python",
   "name": "python",
   "nbconvert_exporter": "python",
   "pygments_lexer": "ipython3",
   "version": "3.9.7"
  }
 },
 "nbformat": 4,
 "nbformat_minor": 5
}
